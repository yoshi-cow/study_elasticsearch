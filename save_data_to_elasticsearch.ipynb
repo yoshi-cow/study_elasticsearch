{
 "cells": [
  {
   "cell_type": "markdown",
   "metadata": {},
   "source": [
    "# 記事をElasticSearchに登録するnotebook"
   ]
  },
  {
   "cell_type": "code",
   "execution_count": 1,
   "metadata": {},
   "outputs": [],
   "source": [
    "from elasticsearch import Elasticsearch\n",
    "import os\n",
    "from tqdm import tqdm"
   ]
  },
  {
   "cell_type": "code",
   "execution_count": 2,
   "metadata": {},
   "outputs": [
    {
     "data": {
      "text/plain": [
       "{'name': '9ebe0ce9d1d3',\n",
       " 'cluster_name': 'docker-cluster',\n",
       " 'cluster_uuid': 'ZQ_xL79zTwas0WHCzaVckg',\n",
       " 'version': {'number': '8.9.0',\n",
       "  'build_flavor': 'default',\n",
       "  'build_type': 'docker',\n",
       "  'build_hash': '8aa461beb06aa0417a231c345a1b8c38fb498a0d',\n",
       "  'build_date': '2023-07-19T14:43:58.555259655Z',\n",
       "  'build_snapshot': False,\n",
       "  'lucene_version': '9.7.0',\n",
       "  'minimum_wire_compatibility_version': '7.17.0',\n",
       "  'minimum_index_compatibility_version': '7.0.0'},\n",
       " 'tagline': 'You Know, for Search'}"
      ]
     },
     "execution_count": 2,
     "metadata": {},
     "output_type": "execute_result"
    }
   ],
   "source": [
    "es = Elasticsearch(\"http://localhost:9200\")\n",
    "\n",
    "es.info().body"
   ]
  },
  {
   "cell_type": "code",
   "execution_count": 4,
   "metadata": {},
   "outputs": [
    {
     "name": "stdout",
     "output_type": "stream",
     "text": [
      "インデックス 'news_articles' が作成されました。\n"
     ]
    }
   ],
   "source": [
    "# インデックスの設定とマッピングを定義\n",
    "index_name = \"news_articles\"\n",
    "settings = {\n",
    "    \"settings\": {\n",
    "        \"analysis\": {\n",
    "            \"tokenizer\": {\n",
    "                \"kuromoji_tokenizer\": {\n",
    "                    \"type\": \"kuromoji_tokenizer\",\n",
    "                    \"mode\": \"search\"\n",
    "                }\n",
    "            },\n",
    "            \"analyzer\": {\n",
    "                \"my_ja_analyzer\": {\n",
    "                    \"type\": \"custom\",\n",
    "                    \"tokenizer\": \"kuromoji_tokenizer\",\n",
    "                    \"filter\": [\n",
    "                        \"kuromoji_baseform\",\n",
    "                        \"kuromoji_part_of_speech\",\n",
    "                        \"cjk_width\",\n",
    "                        \"ja_stop\",\n",
    "                        \"kuromoji_stemmer\",\n",
    "                        \"lowercase\"\n",
    "                    ]\n",
    "                }\n",
    "            }\n",
    "        }\n",
    "    },\n",
    "    \"mappings\": {\n",
    "        \"properties\": {\n",
    "            \"url\": {\n",
    "                \"type\": \"text\",\n",
    "            },\n",
    "            \"title\": {\n",
    "                \"type\": \"text\",\n",
    "                \"analyzer\": \"my_ja_analyzer\"\n",
    "            },\n",
    "            \"content\": {\n",
    "                \"type\": \"text\",\n",
    "                \"analyzer\": \"my_ja_analyzer\"\n",
    "            },\n",
    "            \"published_at\": {\n",
    "                \"type\": \"date\",\n",
    "            },\n",
    "            \"category\": {\n",
    "                \"type\": \"keyword\"\n",
    "            }\n",
    "        }\n",
    "    }\n",
    "}\n",
    "\n",
    "# インデックスの作成\n",
    "if not es.indices.exists(index=index_name):\n",
    "    es.indices.create(index=index_name, body=settings)\n",
    "    print(f\"インデックス '{index_name}' が作成されました。\")\n",
    "else:\n",
    "    print(f\"インデックス '{index_name}' は既に存在しています。\")\n"
   ]
  },
  {
   "cell_type": "code",
   "execution_count": 5,
   "metadata": {},
   "outputs": [],
   "source": [
    "# テキストファイルを処理してElasticsearchに登録する関数\n",
    "def index_article(file_path):\n",
    "    with open(file_path, \"r\", encoding=\"utf-8\") as f:\n",
    "        lines = f.readlines()\n",
    "\n",
    "    url = lines[0].strip()\n",
    "    published_at = lines[1].strip()\n",
    "    title = lines[2].strip()\n",
    "    content = \"\".join(lines[3:]).strip()\n",
    "    category = file_path.split(\"/\")[-1].split(\"-\")[0]\n",
    "\n",
    "\n",
    "    doc = {\n",
    "        \"url\": url,\n",
    "        \"published_at\": published_at,\n",
    "        \"title\": title,\n",
    "        \"content\": content,\n",
    "        \"category\": category\n",
    "    }\n",
    "\n",
    "    res = es.index(index=index_name, document=doc)\n",
    "    print(f\"ファイル'{file_path}'がインデックス化されました。ID: {res['_id']}\")"
   ]
  },
  {
   "cell_type": "code",
   "execution_count": 6,
   "metadata": {},
   "outputs": [
    {
     "name": "stderr",
     "output_type": "stream",
     "text": [
      " 15%|█▍        | 8/54 [00:00<00:01, 42.33it/s]"
     ]
    },
    {
     "name": "stdout",
     "output_type": "stream",
     "text": [
      "ファイル'/Users/pci/Desktop/for_study/learn_ElasticSearch/news_search/news_data/kaden-channel-6912096.txt'がインデックス化されました。ID: vAStspIBHiy3rAkzNhp8\n",
      "ファイル'/Users/pci/Desktop/for_study/learn_ElasticSearch/news_search/news_data/dokujo-tsushin-6903790.txt'がインデックス化されました。ID: vQStspIBHiy3rAkzNhq-\n",
      "ファイル'/Users/pci/Desktop/for_study/learn_ElasticSearch/news_search/news_data/livedoor-homme-6828491.txt'がインデックス化されました。ID: vgStspIBHiy3rAkzNhrX\n",
      "ファイル'/Users/pci/Desktop/for_study/learn_ElasticSearch/news_search/news_data/dokujo-tsushin-6908189.txt'がインデックス化されました。ID: vwStspIBHiy3rAkzNhr1\n",
      "ファイル'/Users/pci/Desktop/for_study/learn_ElasticSearch/news_search/news_data/smax-6918624.txt'がインデックス化されました。ID: wAStspIBHiy3rAkzNxoG\n",
      "ファイル'/Users/pci/Desktop/for_study/learn_ElasticSearch/news_search/news_data/dokujo-tsushin-6907725.txt'がインデックス化されました。ID: wQStspIBHiy3rAkzNxoT\n",
      "ファイル'/Users/pci/Desktop/for_study/learn_ElasticSearch/news_search/news_data/movie-enter-6897614.txt'がインデックス化されました。ID: wgStspIBHiy3rAkzNxok\n",
      "ファイル'/Users/pci/Desktop/for_study/learn_ElasticSearch/news_search/news_data/kaden-channel-6915463.txt'がインデックス化されました。ID: wwStspIBHiy3rAkzNxox\n",
      "ファイル'/Users/pci/Desktop/for_study/learn_ElasticSearch/news_search/news_data/movie-enter-6908108.txt'がインデックス化されました。ID: xAStspIBHiy3rAkzNxo-\n",
      "ファイル'/Users/pci/Desktop/for_study/learn_ElasticSearch/news_search/news_data/kaden-channel-6912640.txt'がインデックス化されました。ID: xQStspIBHiy3rAkzNxpM\n",
      "ファイル'/Users/pci/Desktop/for_study/learn_ElasticSearch/news_search/news_data/sports-watch-6904496.txt'がインデックス化されました。ID: xgStspIBHiy3rAkzNxpY\n",
      "ファイル'/Users/pci/Desktop/for_study/learn_ElasticSearch/news_search/news_data/peachy-6907491.txt'がインデックス化されました。ID: xwStspIBHiy3rAkzNxpk\n",
      "ファイル'/Users/pci/Desktop/for_study/learn_ElasticSearch/news_search/news_data/smax-6917854.txt'がインデックス化されました。ID: yAStspIBHiy3rAkzNxpx\n"
     ]
    },
    {
     "name": "stderr",
     "output_type": "stream",
     "text": [
      " 39%|███▉      | 21/54 [00:00<00:00, 52.88it/s]"
     ]
    },
    {
     "name": "stdout",
     "output_type": "stream",
     "text": [
      "ファイル'/Users/pci/Desktop/for_study/learn_ElasticSearch/news_search/news_data/it_life-hack-6917377.txt'がインデックス化されました。ID: yQStspIBHiy3rAkzNxqA\n",
      "ファイル'/Users/pci/Desktop/for_study/learn_ElasticSearch/news_search/news_data/sports-watch-6911610.txt'がインデックス化されました。ID: ygStspIBHiy3rAkzNxqR\n",
      "ファイル'/Users/pci/Desktop/for_study/learn_ElasticSearch/news_search/news_data/livedoor-homme-6783137.txt'がインデックス化されました。ID: ywStspIBHiy3rAkzNxqo\n",
      "ファイル'/Users/pci/Desktop/for_study/learn_ElasticSearch/news_search/news_data/movie-enter-6900874.txt'がインデックス化されました。ID: zAStspIBHiy3rAkzNxrC\n",
      "ファイル'/Users/pci/Desktop/for_study/learn_ElasticSearch/news_search/news_data/livedoor-homme-6754532.txt'がインデックス化されました。ID: zQStspIBHiy3rAkzNxrT\n",
      "ファイル'/Users/pci/Desktop/for_study/learn_ElasticSearch/news_search/news_data/livedoor-homme-6767880.txt'がインデックス化されました。ID: zgStspIBHiy3rAkzNxrv\n",
      "ファイル'/Users/pci/Desktop/for_study/learn_ElasticSearch/news_search/news_data/peachy-6907988.txt'がインデックス化されました。ID: zwStspIBHiy3rAkzNxr9\n",
      "ファイル'/Users/pci/Desktop/for_study/learn_ElasticSearch/news_search/news_data/it_life-hack-6918420.txt'がインデックス化されました。ID: 0AStspIBHiy3rAkzOBoM\n",
      "ファイル'/Users/pci/Desktop/for_study/learn_ElasticSearch/news_search/news_data/kaden-channel-6914536.txt'がインデックス化されました。ID: 0QStspIBHiy3rAkzOBoa\n",
      "ファイル'/Users/pci/Desktop/for_study/learn_ElasticSearch/news_search/news_data/it_life-hack-6915718.txt'がインデックス化されました。ID: 0gStspIBHiy3rAkzOBor\n",
      "ファイル'/Users/pci/Desktop/for_study/learn_ElasticSearch/news_search/news_data/peachy-6908055.txt'がインデックス化されました。ID: 0wStspIBHiy3rAkzOBo4\n"
     ]
    },
    {
     "name": "stderr",
     "output_type": "stream",
     "text": [
      " 65%|██████▍   | 35/54 [00:00<00:00, 58.45it/s]"
     ]
    },
    {
     "name": "stdout",
     "output_type": "stream",
     "text": [
      "ファイル'/Users/pci/Desktop/for_study/learn_ElasticSearch/news_search/news_data/topic-news-6903190.txt'がインデックス化されました。ID: 1AStspIBHiy3rAkzOBpG\n",
      "ファイル'/Users/pci/Desktop/for_study/learn_ElasticSearch/news_search/news_data/sports-watch-6917848.txt'がインデックス化されました。ID: 1QStspIBHiy3rAkzOBpy\n",
      "ファイル'/Users/pci/Desktop/for_study/learn_ElasticSearch/news_search/news_data/movie-enter-6909318.txt'がインデックス化されました。ID: 1gStspIBHiy3rAkzOBqD\n",
      "ファイル'/Users/pci/Desktop/for_study/learn_ElasticSearch/news_search/news_data/dokujo-tsushin-6907399.txt'がインデックス化されました。ID: 1wStspIBHiy3rAkzOBqb\n",
      "ファイル'/Users/pci/Desktop/for_study/learn_ElasticSearch/news_search/news_data/dokujo-tsushin-6915005.txt'がインデックス化されました。ID: 2AStspIBHiy3rAkzOBqu\n",
      "ファイル'/Users/pci/Desktop/for_study/learn_ElasticSearch/news_search/news_data/smax-6917555.txt'がインデックス化されました。ID: 2QStspIBHiy3rAkzOBq-\n",
      "ファイル'/Users/pci/Desktop/for_study/learn_ElasticSearch/news_search/news_data/it_life-hack-6918825.txt'がインデックス化されました。ID: 2gStspIBHiy3rAkzOBrS\n",
      "ファイル'/Users/pci/Desktop/for_study/learn_ElasticSearch/news_search/news_data/sports-watch-6905865.txt'がインデックス化されました。ID: 2wStspIBHiy3rAkzOBrc\n",
      "ファイル'/Users/pci/Desktop/for_study/learn_ElasticSearch/news_search/news_data/sports-watch-6915646.txt'がインデックス化されました。ID: 3AStspIBHiy3rAkzOBrl\n",
      "ファイル'/Users/pci/Desktop/for_study/learn_ElasticSearch/news_search/news_data/sports-watch-6903226.txt'がインデックス化されました。ID: 3QStspIBHiy3rAkzOBrw\n",
      "ファイル'/Users/pci/Desktop/for_study/learn_ElasticSearch/news_search/news_data/kaden-channel-6919353.txt'がインデックス化されました。ID: 3gStspIBHiy3rAkzOBr5\n",
      "ファイル'/Users/pci/Desktop/for_study/learn_ElasticSearch/news_search/news_data/livedoor-homme-6810014.txt'がインデックス化されました。ID: 3wStspIBHiy3rAkzORoE\n",
      "ファイル'/Users/pci/Desktop/for_study/learn_ElasticSearch/news_search/news_data/movie-enter-6909134.txt'がインデックス化されました。ID: 4AStspIBHiy3rAkzORoQ\n",
      "ファイル'/Users/pci/Desktop/for_study/learn_ElasticSearch/news_search/news_data/smax-6917816.txt'がインデックス化されました。ID: 4QStspIBHiy3rAkzORoc\n",
      "ファイル'/Users/pci/Desktop/for_study/learn_ElasticSearch/news_search/news_data/topic-news-6909453.txt'がインデックス化されました。ID: 4gStspIBHiy3rAkzORop\n"
     ]
    },
    {
     "name": "stderr",
     "output_type": "stream",
     "text": [
      "100%|██████████| 54/54 [00:00<00:00, 60.53it/s]"
     ]
    },
    {
     "name": "stdout",
     "output_type": "stream",
     "text": [
      "ファイル'/Users/pci/Desktop/for_study/learn_ElasticSearch/news_search/news_data/smax-6917246.txt'がインデックス化されました。ID: 4wStspIBHiy3rAkzORoz\n",
      "ファイル'/Users/pci/Desktop/for_study/learn_ElasticSearch/news_search/news_data/it_life-hack-6917568.txt'がインデックス化されました。ID: 5AStspIBHiy3rAkzORpC\n",
      "ファイル'/Users/pci/Desktop/for_study/learn_ElasticSearch/news_search/news_data/peachy-6903604.txt'がインデックス化されました。ID: 5QStspIBHiy3rAkzORpQ\n",
      "ファイル'/Users/pci/Desktop/for_study/learn_ElasticSearch/news_search/news_data/peachy-6907463.txt'がインデックス化されました。ID: 5gStspIBHiy3rAkzORpc\n",
      "ファイル'/Users/pci/Desktop/for_study/learn_ElasticSearch/news_search/news_data/movie-enter-6908515.txt'がインデックス化されました。ID: 5wStspIBHiy3rAkzORpp\n",
      "ファイル'/Users/pci/Desktop/for_study/learn_ElasticSearch/news_search/news_data/it_life-hack-6915190.txt'がインデックス化されました。ID: 6AStspIBHiy3rAkzORp4\n",
      "ファイル'/Users/pci/Desktop/for_study/learn_ElasticSearch/news_search/news_data/topic-news-6907153.txt'がインデックス化されました。ID: 6QStspIBHiy3rAkzORqF\n",
      "ファイル'/Users/pci/Desktop/for_study/learn_ElasticSearch/news_search/news_data/smax-6919324.txt'がインデックス化されました。ID: 6gStspIBHiy3rAkzORqP\n",
      "ファイル'/Users/pci/Desktop/for_study/learn_ElasticSearch/news_search/news_data/livedoor-homme-6776104.txt'がインデックス化されました。ID: 6wStspIBHiy3rAkzORqk\n",
      "ファイル'/Users/pci/Desktop/for_study/learn_ElasticSearch/news_search/news_data/dokujo-tsushin-6910523.txt'がインデックス化されました。ID: 7AStspIBHiy3rAkzORqy\n",
      "ファイル'/Users/pci/Desktop/for_study/learn_ElasticSearch/news_search/news_data/topic-news-6909425.txt'がインデックス化されました。ID: 7QStspIBHiy3rAkzORq8\n",
      "ファイル'/Users/pci/Desktop/for_study/learn_ElasticSearch/news_search/news_data/kaden-channel-6914010.txt'がインデックス化されました。ID: 7gStspIBHiy3rAkzORrE\n",
      "ファイル'/Users/pci/Desktop/for_study/learn_ElasticSearch/news_search/news_data/peachy-6895892.txt'がインデックス化されました。ID: 7wStspIBHiy3rAkzORrS\n",
      "ファイル'/Users/pci/Desktop/for_study/learn_ElasticSearch/news_search/news_data/topic-news-6918105.txt'がインデックス化されました。ID: 8AStspIBHiy3rAkzORrc\n",
      "ファイル'/Users/pci/Desktop/for_study/learn_ElasticSearch/news_search/news_data/topic-news-6903121.txt'がインデックス化されました。ID: 8QStspIBHiy3rAkzORrj\n"
     ]
    },
    {
     "name": "stderr",
     "output_type": "stream",
     "text": [
      "\n"
     ]
    }
   ],
   "source": [
    "directory_path = \"/Users/pci/Desktop/for_study/learn_ElasticSearch/news_search/news_data\"\n",
    "for filename in tqdm(os.listdir(directory_path)):\n",
    "    file_path = os.path.join(directory_path, filename)\n",
    "    index_article(file_path)\n"
   ]
  },
  {
   "cell_type": "code",
   "execution_count": 3,
   "metadata": {},
   "outputs": [
    {
     "data": {
      "text/plain": [
       "{'took': 80,\n",
       " 'timed_out': False,\n",
       " '_shards': {'total': 1, 'successful': 1, 'skipped': 0, 'failed': 0},\n",
       " 'hits': {'total': {'value': 2, 'relation': 'eq'},\n",
       "  'max_score': 1.0,\n",
       "  'hits': [{'_index': 'news_articles',\n",
       "    '_id': 'wgStspIBHiy3rAkzNxok',\n",
       "    '_score': 1.0,\n",
       "    '_source': {'url': 'http://news.livedoor.com/article/detail/6897614/',\n",
       "     'published_at': '2012-08-29T10:00:00+0900',\n",
       "     'title': '神を自負した男が、無限の野心の果てに追い求めたもの',\n",
       "     'content': '8月4日からの先行上映を経て、いよいよ24日に全国公開となったリドリー・スコット監督最新作、人類最大の謎《人類の起源》に迫る3Dエピック・ミステリー超大作『プロメテウス』。25日（土）と26日（日）の2日間で20万人以上を動員し、ネットでは本編に散りばめられた謎の数々に、早くも謎解き合戦が過熱。その謎を解き明かす手掛かりを握る男からのメッセージ映像を独占入手した。\\n\\n\\u3000『プロメテウス』では、ノオミ・ラパス演じる主人公のエリザベスが世界各地の古代遺跡から発見した共通のサインに導かれ、宇宙の果てへと旅立つ。その船となるプロメテウス号の開発や、アンドロイドのデヴィッドを含む17名の探査チームの選抜など、1兆ドルにも及ぶ巨額資金を提供するのが、ガイ・ピアース演じる巨大企業ウェイランド社の創設者ピーター・ウェイランドだ。\\n\\n\\n\\n\\u3000劇場公開前にオープンした「PROJECT PROMETHEUS」というサイトでは、ウェイランド社の会社概要など『プロメテウス』の世界観に現実味を与える様々な設定が事細かに掲載されている他、本編では使用されていない多数の特別映像がアップされた。その一つである「PETER WEYLAND 2023 TED TALK」では、ピーター・ウェイランドが聴衆を前に講演を行い、映像が撮影された2023年時点で人類は人工知能を造るに至っており、さらに数年で人間と同等の知能ができると彼は語っている。\\n\\n\\n\\n\\u3000エリザベスら探査チームが宇宙へと旅立つのは、それから70年後の2093年。既にピーター・ウェイランドは死去しており、生前に撮影された映像が探査チームにメッセージを伝えるが、彼が巨額費用を投じてまで《人類の起源》を求めた理由とは一体何なのだろうか。その答えは、劇場にて自らの目で確かめて欲しい。\\n\\n・『プロメテウス』特集ページ',\n",
       "     'category': 'movie'}},\n",
       "   {'_index': 'news_articles',\n",
       "    '_id': 'zAStspIBHiy3rAkzNxrC',\n",
       "    '_score': 1.0,\n",
       "    '_source': {'url': 'http://news.livedoor.com/article/detail/6900874/',\n",
       "     'published_at': '2012-08-29T18:00:00+0900',\n",
       "     'title': '【プレゼント】戦乱に埋もれた驚きの大逆転の実話を描く！映画『のぼうの城』ジャパンプレミアにご招待',\n",
       "     'content': '累計130万部を突破した大ベストセラーを映画化した『のぼうの城』が11月2日より公開される。原作は、本作で脚本を務める和田竜が手掛けたオリジナルの脚本をもとに自身が書き下ろした小説。2008年に第139回直木賞にノミネートされ、翌年、本屋大賞2位を受賞し、歴史小説ファンはもちろんのこと、若年層から女性層といった幅広い支持を集めている。また本作は、8月下旬から9月初頭にかけてカナダにて開かれる「第36回モントリオール世界映画祭」ワールド・グレイツ部門に特別招待されることが決定している。\\n\\n\\u3000本作は、『ゼロの焦点』の犬童一心監督と『日本沈没』の樋口真嗣監督が異例の“ダブル監督”で手掛ける超大作。圧倒的軍勢で攻めようとしている豊臣秀吉と、周囲を湖で囲まれた“浮き城”の異名を持つ“忍城”の圧倒的不利な戦が始まった。豊臣軍2万人に対し、忍城軍は500人。忍城軍の総大将は、将に求められる智も仁も勇もないが、民衆から「のぼう様」と呼ばれ、誰も及ばないほどの「人気」を誇る成田長親。石田三成率いる大軍に包囲され、絶体絶命の時、民を守るため、この男が打ち出したとんでもない秘策とは……。\\n\\n\\u3000主演を務めるのは、映画『陰陽師』以来8年ぶりの映画主演となる野村萬斎。その他、榮倉奈々、佐藤浩市、成宮寛貴、山口智充、上地雄輔、山田孝之、平岳大、市村正親、鈴木保奈美、西村雅彦、平泉成、夏八木勲、中原丈雄、前田吟、中尾明慶、尾野真千子、芦田愛菜といった実力派のキャストが勢揃いする。\\n\\n\\u3000今回、本作のジャパンプレミアに5組10名様をご招待。豪華キャストが登壇するイベントと本作を鑑賞できるこの貴重な機会をお見逃しなく！\\n\\n\\u3000映画『のぼうの城』は、11月2日（金）より全国ロードショー。\\n\\n\\nプレゼント概要\\n\\n映画『のぼうの城』ジャパンプレミア\\n\\n日時  9月20日（木）受付開始15:50／イベント開演16:15頃 (45分間)／試写開演18:00 \\n場所 六本木ヒルズ アリーナ \\n募集人数 5組10名様 \\n\\n※当日は、野村萬斎、榮倉奈々、成宮寛貴、山口智充、上地雄輔、山田孝之、佐藤浩市、犬童一心監督、樋口真嗣監督の登壇を予定しています。\\n※遅刻された場合は、イベントに参加できない可能性がございます。\\n※当日は、屋外・スタンディングでのご参加となります。体調不良等で参加が不安な方は、ご遠慮ください。\\n※雨天の際は、傘以外の雨具を各自でご用意くださいますようお願いいたします。\\n※場内での写真・ビデオ撮影、録音は禁止されています。\\n※諸般の事情により、舞台挨拶登壇予定者は変更する場合がございます。予めご了承ください。\\n※本イベントは、報道などにより映り込む可能性がございますので、予めご了承ください。\\n\\n【応募方法】\\nMOVIE ENTER公式Twitterアカウント「@movie_enter」をフォローのうえ、\\n本記事のURL（http://news.livedoor.com/article/detail/6900874/）をツイートしてください。\\n\\n\\n\\n\\n【応募期間】\\n2012年8月29日（水）〜\\u30009月10日（月）13時まで\\n※当選者には、ツイッターのDM（ダイレクトメッセージ）でご連絡いたします。\\n\\n【応募条件】\\n・日本に居住されている方（賞品配送先が日本国内の方）。\\n・応募に関する注意事項に同意いただける方。\\n\\n【注意事項】\\n※本キャンペーンに関して、弊社が不適切な行為がされていると判断いたしましたアカウントは、キャンペーン対象外とさせていただきます。\\n※弊社は、応募いただいた方のツイート内容には一切の責任を負いません。\\n※当選発表は、当選者様への当選のご連絡をもってかえさせていただきますので、ご了承ください。\\n※当選通知後、4日間ご連絡がない場合は、当選を無効とさせていただきます。 \\n※当選結果に関するお問い合せは受け付けておりませんので、ご了承ください。\\n※当キャンペーンの掲載内容や条件は、予告なく変更する場合がございます。あらかじめご了承ください。\\n※当選の権利の譲渡はできません。\\n※キャンペーン参加にあたっては、必ず弊社個人情報保護方針「プライバシーポリシー」をお読みください。\\n※当選時にご連絡いただく住所、氏名、電話番号は、その確認などの関連情報のご案内のみに使用し、キャンペーン終了後は弊社の定める方法に基づき消去いたします。\\n※インターネット通信料・接続料およびツイートに関しての全ての費用はお客様のご負担になります。\\n※次の場合はいずれのご応募も無効となりますのでご注意ください。\\n\\u3000・応募時の内容に記載不備がある場合。\\n\\u3000・お客さまのご住所が不明、または連絡不能などの場合。\\n\\n\\n作品情報\\n\\n・映画『のぼうの城』 - 公式サイト\\n\\n\\n\\n\\nその他のプレゼント\\n・キーファー・サザーランドが話題の海外ドラマを引っ提げ日本上陸！『TOUCH／タッチ』特別試写会にご招待\\n・1番悪いヤツは誰なのか、北野武監督最新作『アウトレイジ ビヨンド』試写会にご招待\\n・人種問題のタブーに挑んだ映画『ヘルプ 〜心がつなぐストーリー〜』のブルーレイ+DVDセット',\n",
       "     'category': 'movie'}}]}}"
      ]
     },
     "execution_count": 3,
     "metadata": {},
     "output_type": "execute_result"
    }
   ],
   "source": [
    "# 検索試し\n",
    "res = es.search(\n",
    "    index=\"news_articles\",\n",
    "    query={\n",
    "            \"match\": {\n",
    "                \"published_at\": \"2012-08-29\"\n",
    "            }\n",
    "        }\n",
    ")\n",
    "\n",
    "res.body"
   ]
  },
  {
   "cell_type": "code",
   "execution_count": null,
   "metadata": {},
   "outputs": [],
   "source": []
  },
  {
   "cell_type": "code",
   "execution_count": null,
   "metadata": {},
   "outputs": [],
   "source": []
  }
 ],
 "metadata": {
  "kernelspec": {
   "display_name": "study_rag",
   "language": "python",
   "name": "python3"
  },
  "language_info": {
   "codemirror_mode": {
    "name": "ipython",
    "version": 3
   },
   "file_extension": ".py",
   "mimetype": "text/x-python",
   "name": "python",
   "nbconvert_exporter": "python",
   "pygments_lexer": "ipython3",
   "version": "3.11.10"
  }
 },
 "nbformat": 4,
 "nbformat_minor": 2
}
